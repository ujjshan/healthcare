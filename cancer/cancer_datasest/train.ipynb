{
 "cells": [
  {
   "cell_type": "code",
   "execution_count": 1,
   "metadata": {},
   "outputs": [],
   "source": [
    "import cv2 \n",
    "import os\n",
    "from PIL import Image\n",
    "import numpy as np"
   ]
  },
  {
   "cell_type": "code",
   "execution_count": 2,
   "metadata": {},
   "outputs": [],
   "source": [
    "image_directory='dataset/'\n",
    "no_cancer_images=os.listdir(image_directory+ 'no/')\n",
    "yes_cancer_images=os.listdir(image_directory+ 'cancer/')\n",
    "dataset=[]\n",
    "label=[]\n",
    "INPUT_SIZE=64"
   ]
  },
  {
   "cell_type": "code",
   "execution_count": 3,
   "metadata": {},
   "outputs": [],
   "source": [
    "# checking image is jpg or not and making dataset and label\n",
    "for i,image_name in enumerate(no_cancer_images):\n",
    "    if(image_name.split('.')[1]=='jpg'):\n",
    "        image=cv2.imread(image_directory+'no/'+image_name)\n",
    "        image=Image.fromarray(image, 'RGB')\n",
    "        image=image.resize((INPUT_SIZE,INPUT_SIZE)) \n",
    "        dataset.append(np.array(image))\n",
    "        label.append(0)\n",
    "for i , image_name in enumerate(yes_cancer_images):\n",
    "    if(image_name.split('.')[1]=='jpg'):\n",
    "        image=cv2.imread(image_directory+'cancer/'+image_name)\n",
    "        image=Image.fromarray(image, 'RGB')\n",
    "        image=image.resize((INPUT_SIZE,INPUT_SIZE)) \n",
    "        dataset.append(np.array(image))\n",
    "        label.append(1)"
   ]
  },
  {
   "cell_type": "code",
   "execution_count": 4,
   "metadata": {},
   "outputs": [
    {
     "data": {
      "text/plain": [
       "(912,)"
      ]
     },
     "execution_count": 4,
     "metadata": {},
     "output_type": "execute_result"
    }
   ],
   "source": [
    "dataset=np.array(dataset)\n",
    "label=np.array(label)\n",
    "label.shape"
   ]
  },
  {
   "cell_type": "code",
   "execution_count": 5,
   "metadata": {},
   "outputs": [],
   "source": [
    "from sklearn.model_selection import train_test_split\n",
    "x_train,x_test,y_train,y_test=train_test_split(dataset,label,test_size=0.2,random_state=0)"
   ]
  },
  {
   "cell_type": "code",
   "execution_count": 6,
   "metadata": {},
   "outputs": [],
   "source": [
    "import tensorflow as tf\n",
    "from tensorflow import keras\n",
    "from keras.utils import normalize"
   ]
  },
  {
   "cell_type": "code",
   "execution_count": 7,
   "metadata": {},
   "outputs": [],
   "source": [
    "# normalizing data for binary classification\n",
    "x_train=normalize(x_train, axis=1)\n",
    "x_test=normalize(x_test, axis=1)"
   ]
  },
  {
   "cell_type": "code",
   "execution_count": 8,
   "metadata": {},
   "outputs": [],
   "source": [
    "from keras.models import Sequential\n",
    "from keras.layers import Conv2D,MaxPooling2D\n",
    "from keras.layers import Activation,Dropout,Flatten,Dense"
   ]
  },
  {
   "cell_type": "code",
   "execution_count": 9,
   "metadata": {},
   "outputs": [
    {
     "name": "stdout",
     "output_type": "stream",
     "text": [
      "Epoch 1/20\n"
     ]
    },
    {
     "name": "stderr",
     "output_type": "stream",
     "text": [
      "c:\\anaconda\\lib\\site-packages\\keras\\backend.py:5676: UserWarning: \"`binary_crossentropy` received `from_logits=True`, but the `output` argument was produced by a Sigmoid activation and thus does not represent logits. Was this intended?\n",
      "  output, from_logits = _get_logits(\n"
     ]
    },
    {
     "name": "stdout",
     "output_type": "stream",
     "text": [
      "23/23 [==============================] - 3s 109ms/step - loss: 0.4869 - accuracy: 0.8025 - val_loss: 0.3925 - val_accuracy: 0.9016\n",
      "Epoch 2/20\n",
      "23/23 [==============================] - 2s 93ms/step - loss: 0.4545 - accuracy: 0.8395 - val_loss: 0.3790 - val_accuracy: 0.9016\n",
      "Epoch 3/20\n",
      "23/23 [==============================] - 2s 95ms/step - loss: 0.4280 - accuracy: 0.8409 - val_loss: 0.3679 - val_accuracy: 0.9016\n",
      "Epoch 4/20\n",
      "23/23 [==============================] - 2s 93ms/step - loss: 0.4050 - accuracy: 0.8395 - val_loss: 0.3786 - val_accuracy: 0.9016\n",
      "Epoch 5/20\n",
      "23/23 [==============================] - 2s 83ms/step - loss: 0.3812 - accuracy: 0.8368 - val_loss: 0.3712 - val_accuracy: 0.9016\n",
      "Epoch 6/20\n",
      "23/23 [==============================] - 2s 87ms/step - loss: 0.3660 - accuracy: 0.8422 - val_loss: 0.3688 - val_accuracy: 0.9071\n",
      "Epoch 7/20\n",
      "23/23 [==============================] - 2s 88ms/step - loss: 0.3305 - accuracy: 0.8409 - val_loss: 0.2602 - val_accuracy: 0.9071\n",
      "Epoch 8/20\n",
      "23/23 [==============================] - 2s 86ms/step - loss: 0.2881 - accuracy: 0.8477 - val_loss: 0.2670 - val_accuracy: 0.9235\n",
      "Epoch 9/20\n",
      "23/23 [==============================] - 2s 82ms/step - loss: 0.2615 - accuracy: 0.8477 - val_loss: 0.2122 - val_accuracy: 0.9235\n",
      "Epoch 10/20\n",
      "23/23 [==============================] - 2s 85ms/step - loss: 0.2302 - accuracy: 0.8779 - val_loss: 0.1892 - val_accuracy: 0.9290\n",
      "Epoch 11/20\n",
      "23/23 [==============================] - 2s 86ms/step - loss: 0.2001 - accuracy: 0.9012 - val_loss: 0.1967 - val_accuracy: 0.9180\n",
      "Epoch 12/20\n",
      "23/23 [==============================] - 2s 102ms/step - loss: 0.1808 - accuracy: 0.9067 - val_loss: 0.1745 - val_accuracy: 0.9344\n",
      "Epoch 13/20\n",
      "23/23 [==============================] - 2s 84ms/step - loss: 0.1477 - accuracy: 0.9328 - val_loss: 0.1594 - val_accuracy: 0.9617\n",
      "Epoch 14/20\n",
      "23/23 [==============================] - 2s 82ms/step - loss: 0.1160 - accuracy: 0.9575 - val_loss: 0.1554 - val_accuracy: 0.9672\n",
      "Epoch 15/20\n",
      "23/23 [==============================] - 2s 84ms/step - loss: 0.1009 - accuracy: 0.9630 - val_loss: 0.1560 - val_accuracy: 0.9617\n",
      "Epoch 16/20\n",
      "23/23 [==============================] - 2s 86ms/step - loss: 0.1010 - accuracy: 0.9588 - val_loss: 0.1862 - val_accuracy: 0.9071\n",
      "Epoch 17/20\n",
      "23/23 [==============================] - 2s 85ms/step - loss: 0.1001 - accuracy: 0.9602 - val_loss: 0.1789 - val_accuracy: 0.9071\n",
      "Epoch 18/20\n",
      "23/23 [==============================] - 2s 88ms/step - loss: 0.0763 - accuracy: 0.9630 - val_loss: 0.1491 - val_accuracy: 0.9563\n",
      "Epoch 19/20\n",
      "23/23 [==============================] - 2s 85ms/step - loss: 0.0445 - accuracy: 0.9877 - val_loss: 0.1922 - val_accuracy: 0.9781\n",
      "Epoch 20/20\n",
      "23/23 [==============================] - 2s 84ms/step - loss: 0.0326 - accuracy: 0.9904 - val_loss: 0.1919 - val_accuracy: 0.9781\n"
     ]
    }
   ],
   "source": [
    "# model building\n",
    "\n",
    "#sequential model\n",
    "model=Sequential()\n",
    "#firstlayer: putting shape of the input\n",
    "#Conv2D(filter,kersnal_size)using 32 no. of convolution and\n",
    "# using (3,3) kernal size and input size of 64x64\n",
    "model.add(Conv2D(32,(3,3), input_shape=(INPUT_SIZE,INPUT_SIZE,3)))\n",
    "#adding activation fuction\n",
    "model.add(Activation('relu'))\n",
    "model.add(MaxPooling2D(pool_size=(2,2)))\n",
    "\n",
    "#initializing kernel\n",
    "model.add(Conv2D(32,(3,3), kernel_initializer='he_uniform'))\n",
    "model.add(Activation('relu'))\n",
    "model.add(MaxPooling2D(pool_size=(2,2)))\n",
    "\n",
    "\n",
    "model.add(Conv2D(64,(3,3), kernel_initializer='he_uniform'))\n",
    "model.add(Activation('relu'))\n",
    "model.add(MaxPooling2D(pool_size=(2,2)))\n",
    "\n",
    "#flattening\n",
    "model.add(Flatten())\n",
    "model.add(Dense(64))\n",
    "model.add(Activation('relu'))\n",
    "model.add(Dropout(0.5))\n",
    "\n",
    "#output layer using 1 coz using binary classification prob \n",
    "#if we used categorical classification we would have used 2\n",
    "model.add(Dense(1))\n",
    "#using sigmoid function as binary cross entropy \n",
    "#if categorical cross entropy we use softmax\n",
    "model.add(Activation('sigmoid'))\n",
    "\n",
    "#compiling the model using binary_cross_entrpy\n",
    "model.compile(loss=tf.keras.losses.BinaryCrossentropy(from_logits=True),optimizer='adam',metrics=['accuracy'])  \n",
    "\n",
    "#fitting the model\n",
    "model.fit(x_train,y_train,batch_size=32, verbose=1,epochs=20, validation_data=(x_test,y_test),shuffle=False)\n",
    "#saving model\n",
    "model.save('cancer10Epochs.h5')"
   ]
  },
  {
   "cell_type": "code",
   "execution_count": 10,
   "metadata": {},
   "outputs": [
    {
     "name": "stdout",
     "output_type": "stream",
     "text": [
      "1/1 [==============================] - 0s 73ms/step\n",
      "1.0\n"
     ]
    }
   ],
   "source": [
    "from keras.models import load_model\n",
    "\n",
    "model1=load_model('cancer10Epochs.h5')\n",
    "image=cv2.imread('C:\\\\Users\\\\Ujjwal Shandilya\\\\Desktop\\\\cancer\\\\cancer_datasest\\\\dataset\\\\cancer\\\\benign (277)-sharpened.jpg')\n",
    "img=Image.fromarray(image)\n",
    "img=img.resize((64,64))\n",
    "img=np.array(img)\n",
    "img=np.expand_dims(img,axis=0)\n",
    "result=model.predict(img)\n",
    "print(result[0][0])"
   ]
  },
  {
   "cell_type": "code",
   "execution_count": null,
   "metadata": {},
   "outputs": [],
   "source": []
  }
 ],
 "metadata": {
  "kernelspec": {
   "display_name": "base",
   "language": "python",
   "name": "python3"
  },
  "language_info": {
   "codemirror_mode": {
    "name": "ipython",
    "version": 3
   },
   "file_extension": ".py",
   "mimetype": "text/x-python",
   "name": "python",
   "nbconvert_exporter": "python",
   "pygments_lexer": "ipython3",
   "version": "3.9.13 (main, Aug 25 2022, 23:51:50) [MSC v.1916 64 bit (AMD64)]"
  },
  "orig_nbformat": 4,
  "vscode": {
   "interpreter": {
    "hash": "d7288e82646d3164eca24130947288f8779d11454649f2c02a5dfc42af7f324c"
   }
  }
 },
 "nbformat": 4,
 "nbformat_minor": 2
}
