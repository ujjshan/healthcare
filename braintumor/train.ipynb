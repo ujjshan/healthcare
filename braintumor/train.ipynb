{
 "cells": [
  {
   "cell_type": "code",
   "execution_count": 3,
   "metadata": {},
   "outputs": [],
   "source": [
    "import cv2 \n",
    "import os\n",
    "from PIL import Image\n",
    "import numpy as np"
   ]
  },
  {
   "cell_type": "code",
   "execution_count": 4,
   "metadata": {},
   "outputs": [],
   "source": [
    "image_directory='dataset/'\n",
    "no_tumor_images=os.listdir(image_directory+ 'no/')\n",
    "yes_tumor_images=os.listdir(image_directory+ 'yes/')\n",
    "dataset=[]\n",
    "label=[]\n",
    "INPUT_SIZE=64\n",
    "\n",
    "\n"
   ]
  },
  {
   "cell_type": "code",
   "execution_count": 5,
   "metadata": {},
   "outputs": [],
   "source": [
    "# checking image is jpg or not and making dataset and label\n",
    "for i , image_name in enumerate(no_tumor_images):\n",
    "    if(image_name.split('.')[1]=='jpg'):\n",
    "        image=cv2.imread(image_directory+'no/'+image_name)\n",
    "        image=Image.fromarray(image, 'RGB')\n",
    "        image=image.resize((INPUT_SIZE,INPUT_SIZE)) \n",
    "        dataset.append(np.array(image))\n",
    "        label.append(0)\n",
    "for i , image_name in enumerate(yes_tumor_images):\n",
    "    if(image_name.split('.')[1]=='jpg'):\n",
    "        image=cv2.imread(image_directory+'yes/'+image_name)\n",
    "        image=Image.fromarray(image, 'RGB')\n",
    "        image=image.resize((INPUT_SIZE,INPUT_SIZE)) \n",
    "        dataset.append(np.array(image))\n",
    "        label.append(1)"
   ]
  },
  {
   "cell_type": "code",
   "execution_count": 6,
   "metadata": {},
   "outputs": [
    {
     "name": "stdout",
     "output_type": "stream",
     "text": [
      "3000\n",
      "3000\n"
     ]
    }
   ],
   "source": [
    "# dataset and label \n",
    "print(len(dataset))\n",
    "print(len(label))"
   ]
  },
  {
   "cell_type": "code",
   "execution_count": 7,
   "metadata": {},
   "outputs": [],
   "source": [
    "#changing data into numpy array\n",
    "dataset=np.array(dataset)\n",
    "label=np.array(label)"
   ]
  },
  {
   "cell_type": "code",
   "execution_count": 8,
   "metadata": {},
   "outputs": [],
   "source": [
    "from sklearn.model_selection import train_test_split\n",
    "x_train,x_test,y_train,y_test=train_test_split(dataset,label,test_size=0.2,random_state=0)"
   ]
  },
  {
   "cell_type": "code",
   "execution_count": 9,
   "metadata": {},
   "outputs": [],
   "source": [
    "import tensorflow as tf\n",
    "from tensorflow import keras\n",
    "from keras.utils import normalize\n"
   ]
  },
  {
   "cell_type": "code",
   "execution_count": 10,
   "metadata": {},
   "outputs": [],
   "source": [
    "# normalizing data for binary classification\n",
    "x_train=normalize(x_train, axis=1)\n",
    "x_test=normalize(x_test, axis=1)"
   ]
  },
  {
   "cell_type": "code",
   "execution_count": 11,
   "metadata": {},
   "outputs": [],
   "source": [
    "from keras.models import Sequential\n",
    "from keras.layers import Conv2D,MaxPooling2D\n",
    "from keras.layers import Activation,Dropout,Flatten,Dense"
   ]
  },
  {
   "cell_type": "code",
   "execution_count": 12,
   "metadata": {},
   "outputs": [
    {
     "name": "stdout",
     "output_type": "stream",
     "text": [
      "Epoch 1/10\n"
     ]
    },
    {
     "name": "stderr",
     "output_type": "stream",
     "text": [
      "c:\\anaconda\\lib\\site-packages\\keras\\backend.py:5676: UserWarning: \"`binary_crossentropy` received `from_logits=True`, but the `output` argument was produced by a Sigmoid activation and thus does not represent logits. Was this intended?\n",
      "  output, from_logits = _get_logits(\n"
     ]
    },
    {
     "name": "stdout",
     "output_type": "stream",
     "text": [
      "150/150 [==============================] - 10s 60ms/step - loss: 0.5258 - accuracy: 0.7504 - val_loss: 0.4780 - val_accuracy: 0.7900\n",
      "Epoch 2/10\n",
      "150/150 [==============================] - 8s 50ms/step - loss: 0.3797 - accuracy: 0.8371 - val_loss: 0.3531 - val_accuracy: 0.8333\n",
      "Epoch 3/10\n",
      "150/150 [==============================] - 8s 52ms/step - loss: 0.3050 - accuracy: 0.8783 - val_loss: 0.2876 - val_accuracy: 0.8683\n",
      "Epoch 4/10\n",
      "150/150 [==============================] - 11s 70ms/step - loss: 0.2409 - accuracy: 0.9129 - val_loss: 0.2285 - val_accuracy: 0.9133\n",
      "Epoch 5/10\n",
      "150/150 [==============================] - 9s 62ms/step - loss: 0.1738 - accuracy: 0.9375 - val_loss: 0.1675 - val_accuracy: 0.9467\n",
      "Epoch 6/10\n",
      "150/150 [==============================] - 10s 64ms/step - loss: 0.1131 - accuracy: 0.9617 - val_loss: 0.1310 - val_accuracy: 0.9550\n",
      "Epoch 7/10\n",
      "150/150 [==============================] - 9s 62ms/step - loss: 0.0882 - accuracy: 0.9721 - val_loss: 0.0984 - val_accuracy: 0.9683\n",
      "Epoch 8/10\n",
      "150/150 [==============================] - 9s 58ms/step - loss: 0.0638 - accuracy: 0.9796 - val_loss: 0.0906 - val_accuracy: 0.9717\n",
      "Epoch 9/10\n",
      "150/150 [==============================] - 9s 57ms/step - loss: 0.0409 - accuracy: 0.9904 - val_loss: 0.0695 - val_accuracy: 0.9767\n",
      "Epoch 10/10\n",
      "150/150 [==============================] - 9s 57ms/step - loss: 0.0304 - accuracy: 0.9929 - val_loss: 0.0692 - val_accuracy: 0.9800\n"
     ]
    }
   ],
   "source": [
    "# model building\n",
    "\n",
    "#sequential model\n",
    "model=Sequential()\n",
    "#firstlayer: putting shape of the input\n",
    "#Conv2D(filter,kersnal_size)using 32 no. of convolution and\n",
    "# using (3,3) kernal size and input size of 64x64\n",
    "model.add(Conv2D(32,(3,3), input_shape=(INPUT_SIZE,INPUT_SIZE,3)))\n",
    "#adding activation fuction\n",
    "model.add(Activation('relu'))\n",
    "model.add(MaxPooling2D(pool_size=(2,2)))\n",
    "\n",
    "#initializing kernel\n",
    "model.add(Conv2D(32,(3,3), kernel_initializer='he_uniform'))\n",
    "model.add(Activation('relu'))\n",
    "model.add(MaxPooling2D(pool_size=(2,2)))\n",
    "\n",
    "\n",
    "model.add(Conv2D(64,(3,3), kernel_initializer='he_uniform'))\n",
    "model.add(Activation('relu'))\n",
    "model.add(MaxPooling2D(pool_size=(2,2)))\n",
    "\n",
    "#flattening\n",
    "model.add(Flatten())\n",
    "model.add(Dense(64))\n",
    "model.add(Activation('relu'))\n",
    "model.add(Dropout(0.5))\n",
    "\n",
    "#output layer using 1 coz using binary classification prob \n",
    "#if we used categorical classification we would have used 2\n",
    "model.add(Dense(1))\n",
    "#using sigmoid function as binary cross entropy \n",
    "#if categorical cross entropy we use softmax\n",
    "model.add(Activation('sigmoid'))\n",
    "\n",
    "#compiling the model using binary_cross_entrpy\n",
    "model.compile(loss=tf.keras.losses.BinaryCrossentropy(from_logits=True),optimizer='adam',metrics=['accuracy'])\n",
    "\n",
    "#fitting the model\n",
    "model.fit(x_train,y_train,batch_size=16, verbose=1,epochs=10, validation_data=(x_test,y_test),shuffle=False)\n",
    "#saving model\n",
    "model.save('BrainTumor10Epochs.h5')\n",
    "\n",
    "\n"
   ]
  },
  {
   "cell_type": "code",
   "execution_count": 13,
   "metadata": {},
   "outputs": [
    {
     "name": "stdout",
     "output_type": "stream",
     "text": [
      "1/1 [==============================] - 0s 87ms/step\n",
      "1.0\n"
     ]
    }
   ],
   "source": [
    "#testing with prediction\n",
    "from keras.models import load_model\n",
    "\n",
    "model1=load_model('BrainTumor10Epochs.h5')\n",
    "image=cv2.imread('C:\\\\Users\\\\Ujjwal Shandilya\\\\ml code\\\\brain tumor\\\\prediction\\\\pred5.jpg')\n",
    "img=Image.fromarray(image)\n",
    "img=img.resize((64,64))\n",
    "img=np.array(img)\n",
    "img=np.expand_dims(img,axis=0)\n",
    "result=model.predict(img)\n",
    "print(result[0][0])\n"
   ]
  },
  {
   "cell_type": "code",
   "execution_count": null,
   "metadata": {},
   "outputs": [],
   "source": []
  }
 ],
 "metadata": {
  "kernelspec": {
   "display_name": "base",
   "language": "python",
   "name": "python3"
  },
  "language_info": {
   "codemirror_mode": {
    "name": "ipython",
    "version": 3
   },
   "file_extension": ".py",
   "mimetype": "text/x-python",
   "name": "python",
   "nbconvert_exporter": "python",
   "pygments_lexer": "ipython3",
   "version": "3.9.13"
  },
  "orig_nbformat": 4,
  "vscode": {
   "interpreter": {
    "hash": "d7288e82646d3164eca24130947288f8779d11454649f2c02a5dfc42af7f324c"
   }
  }
 },
 "nbformat": 4,
 "nbformat_minor": 2
}
